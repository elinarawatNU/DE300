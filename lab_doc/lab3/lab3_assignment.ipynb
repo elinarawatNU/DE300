{
 "cells": [
  {
   "cell_type": "markdown",
   "id": "90b40f10-90a1-4920-a4d0-04e90ebe778a",
   "metadata": {},
   "source": [
    "# Lab3 Assignment"
   ]
  },
  {
   "cell_type": "code",
   "execution_count": 2,
   "id": "c71b0e2c-73d5-41e2-996a-2355879f1ec1",
   "metadata": {},
   "outputs": [],
   "source": [
    "# write code to load ariline the data "
   ]
  },
  {
   "cell_type": "code",
   "execution_count": null,
   "id": "f17ca97d-6bad-4832-aca9-1ba5e8f0d756",
   "metadata": {},
   "outputs": [],
   "source": []
  },
  {
   "cell_type": "markdown",
   "id": "2f1b1fdf-3277-4097-bb0d-b8d1d3eb18d8",
   "metadata": {},
   "source": [
    "## Please read the variable info at 'readme.html', choose at least two sets of variables to analyze including but not limited to, showing their basic statistic and visualization.\n",
    "\n",
    "## Brief explain what you found. For example, you can show correlation between several variables and explain why their relation make sense,  or discover skewness, outlier etc for certain variables. "
   ]
  },
  {
   "cell_type": "code",
   "execution_count": null,
   "id": "a732b12d-3ced-4a9a-88b0-69eb69053bd3",
   "metadata": {},
   "outputs": [],
   "source": []
  },
  {
   "cell_type": "code",
   "execution_count": null,
   "id": "5798494b-a238-4980-b9cd-d296cc22b4ec",
   "metadata": {},
   "outputs": [],
   "source": []
  },
  {
   "cell_type": "code",
   "execution_count": null,
   "id": "89a7d09a-0918-4408-98f3-ae6e63d606e7",
   "metadata": {},
   "outputs": [],
   "source": []
  }
 ],
 "metadata": {
  "kernelspec": {
   "display_name": "Python 3 (ipykernel)",
   "language": "python",
   "name": "python3"
  },
  "language_info": {
   "codemirror_mode": {
    "name": "ipython",
    "version": 3
   },
   "file_extension": ".py",
   "mimetype": "text/x-python",
   "name": "python",
   "nbconvert_exporter": "python",
   "pygments_lexer": "ipython3",
   "version": "3.11.5"
  }
 },
 "nbformat": 4,
 "nbformat_minor": 5
}
