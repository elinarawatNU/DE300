{
 "cells": [
  {
   "cell_type": "markdown",
   "id": "227eec34",
   "metadata": {},
   "source": [
    "# Lab 2\n",
    "\n",
    "\n",
    "## 1, Install required distribution/packages \n",
    "    \n",
    "(1) Install the Anaconda 3 python distribution on your EC2 instance, see https://docs.anaconda.com/free/anaconda/install/linux/\n",
    "\n",
    "(2) Install the Tmux on your EC2 instance, see https://github.com/tmux/tmux/wiki/Installing. See Tmux cheetsheet https://tmuxcheatsheet.com/. Important functions includes start new sessions, attach/detach sessions, create/delete new windows in a session, navigate between sessions/windows.\n",
    "\n",
    "\n",
    "(3) Install the AWS CLI (AWS command line tool) on both your laptop and your EC2 instance, see https://docs.aws.amazon.com/cli/latest/userguide/getting-started-install.html. \n",
    "\n",
    "## 2 Github Set Up (create key pair in your EC2 instance, and add the public key to your Github account) See\n",
    "\n",
    " - generate SSH key: https://docs.github.com/en/authentication/connecting-to-github-with-ssh/generating-a-new-ssh-key-and-adding-it-to-the-ssh-agent\n",
    " - add the public key to your Github: https://docs.github.com/en/authentication/connecting-to-github-with-ssh/adding-a-new-ssh-key-to-your-github-account\n",
    "\n",
    "## 3 Run Jupyter notebook on your instance and open it in your local laptop browser\n",
    " \n",
    " See instruction at https://www.digitalocean.com/community/tutorials/how-to-install-run-connect-to-jupyter-notebook-on-remote-server\n",
    " \n",
    " To summarize, when you SSH instance, instead of running 'ssh -i key.pem ec2-user@IPv4DNS address', you need to add one more parameter, as 'ssh -i key.pem -L 8888:localhost:8888 ec2-user@public DNS IPv4 address'. This creates a portal correspondance between your local laptop and your EC2 instance. By default, the jupyter notebook on your EC2 will use portal 8888, the above argument will send all data from EC2 8888 portal to your local machine 8888 portal.\n",
    " \n",
    "## 4 Using S3 bucket\n",
    "\n",
    " - Create your S3 bucket\n",
    " - Upload files in your local machine to S3 bucket\n",
    "\n",
    " - Transfer files between your S3 bucket and EC2 bucket: https://docs.aws.amazon.com/AWSEC2/latest/UserGuide/AmazonS3.html\n"
   ]
  },
  {
   "cell_type": "code",
   "execution_count": null,
   "id": "577368ba",
   "metadata": {},
   "outputs": [],
   "source": []
  }
 ],
 "metadata": {
  "kernelspec": {
   "display_name": "Python 3 (ipykernel)",
   "language": "python",
   "name": "python3"
  },
  "language_info": {
   "codemirror_mode": {
    "name": "ipython",
    "version": 3
   },
   "file_extension": ".py",
   "mimetype": "text/x-python",
   "name": "python",
   "nbconvert_exporter": "python",
   "pygments_lexer": "ipython3",
   "version": "3.11.5"
  }
 },
 "nbformat": 4,
 "nbformat_minor": 5
}
