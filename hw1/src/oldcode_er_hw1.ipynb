version https://git-lfs.github.com/spec/v1
oid sha256:7387832dc41a733edb0ec3fdc7f0996b28c09c0409a82aa2b95f48a7b7859066
size 5227
